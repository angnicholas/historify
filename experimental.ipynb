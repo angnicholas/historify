{
 "cells": [
  {
   "cell_type": "code",
   "execution_count": 2,
   "metadata": {},
   "outputs": [
    {
     "data": {
      "text/plain": [
       "50"
      ]
     },
     "execution_count": 2,
     "metadata": {},
     "output_type": "execute_result"
    }
   ],
   "source": [
    "import json\n",
    "with open('out.json', mode='r') as f:\n",
    "    data = json.loads(f.read())\n",
    "# data['data']['me']['libraryV2']['page']['items']"
   ]
  },
  {
   "cell_type": "code",
   "execution_count": 45,
   "metadata": {},
   "outputs": [],
   "source": [
    "with open('.env') as f:\n",
    "    token = f.readlines()[0]\n",
    "with open('.urlending') as f:\n",
    "    end = f.readlines()[0]\n",
    "    \n",
    "def api_get_item_list(page_size, offset):\n",
    "\n",
    "    URL = f'https://api-partner.spotify.com/pathfinder/v1/query?operationName=fetchLibraryTracks&variables=%7B%22offset%22%3A{offset}%2C%22limit%22%3A{page_size}{end}'\n",
    "    import requests\n",
    "    res = requests.get(URL, headers={'Authorization':token})\n",
    "    data = json.loads(res.content)\n",
    "\n",
    "    item_list = data['data']['me']['library']['tracks']['items']\n",
    "    return item_list"
   ]
  },
  {
   "cell_type": "code",
   "execution_count": 46,
   "metadata": {},
   "outputs": [],
   "source": [
    "big_thing = []\n",
    "for i in range(2):\n",
    "    thing = api_get_item_list(500, i * 500)\n",
    "    big_thing.extend(thing)\n"
   ]
  },
  {
   "cell_type": "code",
   "execution_count": null,
   "metadata": {},
   "outputs": [],
   "source": [
    "len(big_thing) # where's the missing boi lol"
   ]
  },
  {
   "cell_type": "code",
   "execution_count": null,
   "metadata": {},
   "outputs": [],
   "source": [
    "element = item_list[0]\n",
    "element"
   ]
  },
  {
   "cell_type": "code",
   "execution_count": 50,
   "metadata": {},
   "outputs": [],
   "source": [
    "hi = ''\n",
    "for element in big_thing:\n",
    "    added_at = element['addedAt']['isoString'].split('T')[0]\n",
    "    name = element['track']['data']['name']\n",
    "    artists = ', '.join([x['profile']['name'] for x in element['track']['data']['artists']['items']])\n",
    "    hi += added_at + ' | ' +  name + ' | ' + artists + '\\n'\n",
    "with open('xd.txt', mode='w') as f:\n",
    "    f.write(hi)\n"
   ]
  }
 ],
 "metadata": {
  "kernelspec": {
   "display_name": "floria_webdev",
   "language": "python",
   "name": "python3"
  },
  "language_info": {
   "codemirror_mode": {
    "name": "ipython",
    "version": 3
   },
   "file_extension": ".py",
   "mimetype": "text/x-python",
   "name": "python",
   "nbconvert_exporter": "python",
   "pygments_lexer": "ipython3",
   "version": "3.10.4"
  },
  "orig_nbformat": 4
 },
 "nbformat": 4,
 "nbformat_minor": 2
}
